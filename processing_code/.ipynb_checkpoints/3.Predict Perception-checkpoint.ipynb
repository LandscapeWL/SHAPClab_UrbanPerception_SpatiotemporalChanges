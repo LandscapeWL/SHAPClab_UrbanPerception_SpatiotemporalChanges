{
 "cells": [
  {
   "cell_type": "code",
   "execution_count": 1,
   "id": "86153d4d",
   "metadata": {},
   "outputs": [],
   "source": [
    "import pandas as pd\n",
    "import numpy as np\n",
    "import matplotlib.pyplot as plt\n",
    "plt.rcParams['figure.figsize'] = (8,8)\n",
    "# import geopandas as gpd\n",
    "import seaborn\n",
    "import matplotlib as mpl\n",
    "# from shapely.geometry import Point,LineString,LinearRing,Polygon\n",
    "# from shapely.geometry import MultiPoint,MultiLineString,MultiPolygon\n",
    "%matplotlib inline\n",
    "\n",
    "# import pygeos # pip install pygeos==0.10.0 \n",
    "import pickle"
   ]
  },
  {
   "cell_type": "markdown",
   "id": "848bbb2d",
   "metadata": {},
   "source": [
    "# 读取训练完成的模型 对 街景进行感知预测"
   ]
  },
  {
   "cell_type": "code",
   "execution_count": 2,
   "id": "f6768d8f",
   "metadata": {},
   "outputs": [],
   "source": [
    "def save_fig(col):\n",
    "    \n",
    "    # 读取预测街景的语义分割数据\n",
    "    seg = pd.read_csv('./data/4.预测街景图分割结果/segmentation_result.csv')\n",
    "    \n",
    "    # 打开训练完成的模型\n",
    "    out_model = f'./data/3.训练完成模型权重/model_1.2_{col}.pkl'\n",
    "    with open(out_model,'rb') as fl:\n",
    "        clf2 = pickle.load(fl)\n",
    "    \n",
    "    # 获取到所有预测街景的150类视觉要素特征\n",
    "    pred_X = seg.iloc[:,1:19].values\n",
    "    \n",
    "    # 对所有数据进行预测\n",
    "    scores = clf2.predict_proba(pred_X[:])[:,-1]\n",
    "    \n",
    "    # 将结果添加到图分割结果中\n",
    "    seg[f'{col}_score'] = scores\n",
    "    \n",
    "    # 只保留图名和分数\n",
    "    result = seg[['id',f'{col}_score']]\n",
    "        \n",
    "    # 将结果保存\n",
    "    result.to_csv(f'./data/5.预测街景感知分数/seg_predict_{col}.csv',index=False)"
   ]
  },
  {
   "cell_type": "code",
   "execution_count": 3,
   "id": "d78b3b47",
   "metadata": {},
   "outputs": [
    {
     "name": "stdout",
     "output_type": "stream",
     "text": [
      "开始处理预测safer感知\n"
     ]
    },
    {
     "name": "stderr",
     "output_type": "stream",
     "text": [
      "D:\\anaconda\\lib\\site-packages\\sklearn\\base.py:329: UserWarning: Trying to unpickle estimator SVC from version 0.24.2 when using version 1.0.2. This might lead to breaking code or invalid results. Use at your own risk. For more info please refer to:\n",
      "https://scikit-learn.org/stable/modules/model_persistence.html#security-maintainability-limitations\n",
      "  warnings.warn(\n"
     ]
    },
    {
     "name": "stdout",
     "output_type": "stream",
     "text": [
      "开始处理预测livelier感知\n"
     ]
    },
    {
     "name": "stderr",
     "output_type": "stream",
     "text": [
      "D:\\anaconda\\lib\\site-packages\\sklearn\\base.py:329: UserWarning: Trying to unpickle estimator SVC from version 0.24.2 when using version 1.0.2. This might lead to breaking code or invalid results. Use at your own risk. For more info please refer to:\n",
      "https://scikit-learn.org/stable/modules/model_persistence.html#security-maintainability-limitations\n",
      "  warnings.warn(\n"
     ]
    },
    {
     "name": "stdout",
     "output_type": "stream",
     "text": [
      "开始处理预测boring感知\n"
     ]
    },
    {
     "name": "stderr",
     "output_type": "stream",
     "text": [
      "D:\\anaconda\\lib\\site-packages\\sklearn\\base.py:329: UserWarning: Trying to unpickle estimator SVC from version 0.24.2 when using version 1.0.2. This might lead to breaking code or invalid results. Use at your own risk. For more info please refer to:\n",
      "https://scikit-learn.org/stable/modules/model_persistence.html#security-maintainability-limitations\n",
      "  warnings.warn(\n"
     ]
    },
    {
     "name": "stdout",
     "output_type": "stream",
     "text": [
      "开始处理预测beautiful感知\n"
     ]
    },
    {
     "name": "stderr",
     "output_type": "stream",
     "text": [
      "D:\\anaconda\\lib\\site-packages\\sklearn\\base.py:329: UserWarning: Trying to unpickle estimator SVC from version 0.24.2 when using version 1.0.2. This might lead to breaking code or invalid results. Use at your own risk. For more info please refer to:\n",
      "https://scikit-learn.org/stable/modules/model_persistence.html#security-maintainability-limitations\n",
      "  warnings.warn(\n"
     ]
    },
    {
     "name": "stdout",
     "output_type": "stream",
     "text": [
      "开始处理预测wealthier感知\n"
     ]
    },
    {
     "name": "stderr",
     "output_type": "stream",
     "text": [
      "D:\\anaconda\\lib\\site-packages\\sklearn\\base.py:329: UserWarning: Trying to unpickle estimator SVC from version 0.24.2 when using version 1.0.2. This might lead to breaking code or invalid results. Use at your own risk. For more info please refer to:\n",
      "https://scikit-learn.org/stable/modules/model_persistence.html#security-maintainability-limitations\n",
      "  warnings.warn(\n"
     ]
    },
    {
     "name": "stdout",
     "output_type": "stream",
     "text": [
      "开始处理预测depressing感知\n"
     ]
    },
    {
     "name": "stderr",
     "output_type": "stream",
     "text": [
      "D:\\anaconda\\lib\\site-packages\\sklearn\\base.py:329: UserWarning: Trying to unpickle estimator SVC from version 0.24.2 when using version 1.0.2. This might lead to breaking code or invalid results. Use at your own risk. For more info please refer to:\n",
      "https://scikit-learn.org/stable/modules/model_persistence.html#security-maintainability-limitations\n",
      "  warnings.warn(\n"
     ]
    }
   ],
   "source": [
    "# 定义所有感知\n",
    "cols = ['safer','livelier','boring','beautiful','wealthier','depressing']\n",
    "\n",
    "for col in cols:\n",
    "    print(f'开始处理预测{col}感知')\n",
    "    save_fig(col)"
   ]
  },
  {
   "cell_type": "code",
   "execution_count": null,
   "id": "a7471d15",
   "metadata": {},
   "outputs": [],
   "source": []
  },
  {
   "cell_type": "code",
   "execution_count": null,
   "id": "ed17a590",
   "metadata": {},
   "outputs": [],
   "source": []
  }
 ],
 "metadata": {
  "kernelspec": {
   "display_name": "Python 3 (ipykernel)",
   "language": "python",
   "name": "python3"
  },
  "language_info": {
   "codemirror_mode": {
    "name": "ipython",
    "version": 3
   },
   "file_extension": ".py",
   "mimetype": "text/x-python",
   "name": "python",
   "nbconvert_exporter": "python",
   "pygments_lexer": "ipython3",
   "version": "3.9.13"
  }
 },
 "nbformat": 4,
 "nbformat_minor": 5
}
