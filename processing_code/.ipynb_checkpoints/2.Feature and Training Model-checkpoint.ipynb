{
 "cells": [
  {
   "cell_type": "code",
   "execution_count": 1,
   "id": "1894a808",
   "metadata": {},
   "outputs": [],
   "source": [
    "import pandas as pd\n",
    "import numpy as np\n",
    "import matplotlib.pyplot as plt\n",
    "plt.rcParams['figure.figsize'] = (8,8)\n",
    "# import geopandas as gpd\n",
    "import seaborn\n",
    "import matplotlib as mpl\n",
    "# from shapely.geometry import Point,LineString,LinearRing,Polygon\n",
    "# from shapely.geometry import MultiPoint,MultiLineString,MultiPolygon\n",
    "%matplotlib inline"
   ]
  },
  {
   "cell_type": "markdown",
   "id": "3c6239ac",
   "metadata": {},
   "source": [
    "# 查看感知的分数特征"
   ]
  },
  {
   "cell_type": "markdown",
   "id": "1537c1b7",
   "metadata": {},
   "source": [
    "#### index/\t  wealthier/\t  more depressing/\t  safer/\t  livelier/\t  more boring/\t  more beautiful"
   ]
  },
  {
   "cell_type": "code",
   "execution_count": 2,
   "id": "189028ce",
   "metadata": {},
   "outputs": [],
   "source": [
    "# 读取placepulse感知分数\n",
    "score = pd.read_csv('./data/1.训练集感知分数/data_all.csv')"
   ]
  },
  {
   "cell_type": "code",
   "execution_count": 3,
   "id": "04b1be2e",
   "metadata": {},
   "outputs": [
    {
     "name": "stdout",
     "output_type": "stream",
     "text": [
      "_std: 2.099371433702358 _mean 4.6371389753736745\n"
     ]
    },
    {
     "data": {
      "text/plain": [
       "<AxesSubplot:>"
      ]
     },
     "execution_count": 3,
     "metadata": {},
     "output_type": "execute_result"
    },
    {
     "data": {
      "image/png": "[encoded data removed]",
      "text/plain": [
       "<Figure size 432x288 with 1 Axes>"
      ]
     },
     "metadata": {
      "needs_background": "light"
     },
     "output_type": "display_data"
    }
   ],
   "source": [
    "# 读取安全感知分数\n",
    "score_safer = score[['index','safer']]\n",
    "\n",
    "# 查看感知分数的标准差和平均\n",
    "_std = score_safer['safer'].describe()['std']\n",
    "_mean = score_safer['safer'].describe()['mean']\n",
    "\n",
    "print('_std:',_std,'_mean', _mean)\n",
    "\n",
    "# 值的分布\n",
    "score_safer['safer'].hist(bins=20)"
   ]
  },
  {
   "cell_type": "markdown",
   "id": "ab2e2afc",
   "metadata": {},
   "source": [
    "# 不同delta下分数可视化"
   ]
  },
  {
   "cell_type": "markdown",
   "id": "0bf67135",
   "metadata": {},
   "source": [
    "### 折线是后边训练SVC得到的平均精度"
   ]
  },
  {
   "cell_type": "code",
   "execution_count": 4,
   "id": "5a934f93",
   "metadata": {},
   "outputs": [
    {
     "name": "stderr",
     "output_type": "stream",
     "text": [
      "C:\\Users\\WL\\AppData\\Local\\Temp/ipykernel_15376/1487990046.py:11: SettingWithCopyWarning: \n",
      "A value is trying to be set on a copy of a slice from a DataFrame.\n",
      "Try using .loc[row_indexer,col_indexer] = value instead\n",
      "\n",
      "See the caveats in the documentation: https://pandas.pydata.org/pandas-docs/stable/user_guide/indexing.html#returning-a-view-versus-a-copy\n",
      "  score_safer[f'y_safer_{delta}'] = score_safer['safer'].apply(label,args=(delta,))\n"
     ]
    },
    {
     "data": {
      "image/png": "[encoded data removed]",
      "text/plain": [
       "<Figure size 432x288 with 1 Axes>"
      ]
     },
     "metadata": {
      "needs_background": "light"
     },
     "output_type": "display_data"
    }
   ],
   "source": [
    "def label(x,delta):\n",
    "    if x < _mean - delta * _std:\n",
    "        return -1\n",
    "    elif x > _mean + delta * _std:\n",
    "        return 1\n",
    "    else:\n",
    "        return 0\n",
    "\n",
    "# 不同delta下 样本给与正负值\n",
    "for delta in [0.5,0.7,1.0,1.2,1.5,1.8]:\n",
    "    score_safer[f'y_safer_{delta}'] = score_safer['safer'].apply(label,args=(delta,))\n",
    "\n",
    "# 不同delta下 样本量\n",
    "score_safer_count = pd.concat([score_safer[f'y_safer_{delta}'].value_counts() for delta in [0.5,0.7,1.0,1.2,1.5,1.8]],axis=1)\n",
    "\n",
    "ax = score_safer_count.iloc[[0,-1],:].T.plot(kind='bar')\n",
    "ax.set_xticklabels([0.5,0.7,1.0,1.2,1.5,1.8],rotation=0)\n",
    "ax.legend(['Positive','Negative'])\n",
    "plt.show()"
   ]
  },
  {
   "cell_type": "markdown",
   "id": "aef9a945",
   "metadata": {},
   "source": [
    "# 读取placepulse数据语义分割的结果/各感知的分数\n",
    "# 使用SVC进行训练"
   ]
  },
  {
   "cell_type": "code",
   "execution_count": 5,
   "id": "4701586e",
   "metadata": {
    "scrolled": true
   },
   "outputs": [
    {
     "name": "stdout",
     "output_type": "stream",
     "text": [
      "Index(['wealthier', 'depressing', 'safer', 'livelier', 'boring', 'beautiful'], dtype='object')\n",
      "开始处理wealthier\n"
     ]
    },
    {
     "name": "stderr",
     "output_type": "stream",
     "text": [
      "C:\\Users\\WL\\AppData\\Local\\Temp/ipykernel_15376/1746242765.py:29: SettingWithCopyWarning: \n",
      "A value is trying to be set on a copy of a slice from a DataFrame.\n",
      "Try using .loc[row_indexer,col_indexer] = value instead\n",
      "\n",
      "See the caveats in the documentation: https://pandas.pydata.org/pandas-docs/stable/user_guide/indexing.html#returning-a-view-versus-a-copy\n",
      "  score_s[f'y_{col}_{delta}'] = score_s[col].apply(label ,args=(delta,))\n",
      "                                                                                                                       \r"
     ]
    },
    {
     "name": "stdout",
     "output_type": "stream",
     "text": [
      "wealthier done!\n",
      "    y_wealthier_1.2\n",
      " 0            64820\n",
      "-1            16102\n",
      " 1            15984 [0.6248592870544091]\n",
      "开始处理depressing\n"
     ]
    },
    {
     "name": "stderr",
     "output_type": "stream",
     "text": [
      "C:\\Users\\WL\\AppData\\Local\\Temp/ipykernel_15376/1746242765.py:29: SettingWithCopyWarning: \n",
      "A value is trying to be set on a copy of a slice from a DataFrame.\n",
      "Try using .loc[row_indexer,col_indexer] = value instead\n",
      "\n",
      "See the caveats in the documentation: https://pandas.pydata.org/pandas-docs/stable/user_guide/indexing.html#returning-a-view-versus-a-copy\n",
      "  score_s[f'y_{col}_{delta}'] = score_s[col].apply(label ,args=(delta,))\n",
      "                                                                                                                       \r"
     ]
    },
    {
     "name": "stdout",
     "output_type": "stream",
     "text": [
      "depressing done!\n",
      "    y_depressing_1.2\n",
      " 0             62694\n",
      " 1             17204\n",
      "-1             17008 [0.6199482900761585]\n",
      "开始处理safer\n"
     ]
    },
    {
     "name": "stderr",
     "output_type": "stream",
     "text": [
      "C:\\Users\\WL\\AppData\\Local\\Temp/ipykernel_15376/1746242765.py:29: SettingWithCopyWarning: \n",
      "A value is trying to be set on a copy of a slice from a DataFrame.\n",
      "Try using .loc[row_indexer,col_indexer] = value instead\n",
      "\n",
      "See the caveats in the documentation: https://pandas.pydata.org/pandas-docs/stable/user_guide/indexing.html#returning-a-view-versus-a-copy\n",
      "  score_s[f'y_{col}_{delta}'] = score_s[col].apply(label ,args=(delta,))\n",
      "                                                                                                                       \r"
     ]
    },
    {
     "name": "stdout",
     "output_type": "stream",
     "text": [
      "safer done!\n",
      "    y_safer_1.2\n",
      " 0        71498\n",
      "-1        13090\n",
      " 1        12318 [0.6799572594825157]\n",
      "开始处理livelier\n"
     ]
    },
    {
     "name": "stderr",
     "output_type": "stream",
     "text": [
      "C:\\Users\\WL\\AppData\\Local\\Temp/ipykernel_15376/1746242765.py:29: SettingWithCopyWarning: \n",
      "A value is trying to be set on a copy of a slice from a DataFrame.\n",
      "Try using .loc[row_indexer,col_indexer] = value instead\n",
      "\n",
      "See the caveats in the documentation: https://pandas.pydata.org/pandas-docs/stable/user_guide/indexing.html#returning-a-view-versus-a-copy\n",
      "  score_s[f'y_{col}_{delta}'] = score_s[col].apply(label ,args=(delta,))\n",
      "                                                                                                                       \r"
     ]
    },
    {
     "name": "stdout",
     "output_type": "stream",
     "text": [
      "livelier done!\n",
      "    y_livelier_1.2\n",
      " 0           70776\n",
      "-1           13339\n",
      " 1           12791 [0.676926032660903]\n",
      "开始处理boring\n"
     ]
    },
    {
     "name": "stderr",
     "output_type": "stream",
     "text": [
      "C:\\Users\\WL\\AppData\\Local\\Temp/ipykernel_15376/1746242765.py:29: SettingWithCopyWarning: \n",
      "A value is trying to be set on a copy of a slice from a DataFrame.\n",
      "Try using .loc[row_indexer,col_indexer] = value instead\n",
      "\n",
      "See the caveats in the documentation: https://pandas.pydata.org/pandas-docs/stable/user_guide/indexing.html#returning-a-view-versus-a-copy\n",
      "  score_s[f'y_{col}_{delta}'] = score_s[col].apply(label ,args=(delta,))\n",
      "                                                                                                                       \r"
     ]
    },
    {
     "name": "stdout",
     "output_type": "stream",
     "text": [
      "boring done!\n",
      "    y_boring_1.2\n",
      " 0         63686\n",
      "-1         16756\n",
      " 1         16464 [0.590119353376643]\n",
      "开始处理beautiful\n"
     ]
    },
    {
     "name": "stderr",
     "output_type": "stream",
     "text": [
      "C:\\Users\\WL\\AppData\\Local\\Temp/ipykernel_15376/1746242765.py:29: SettingWithCopyWarning: \n",
      "A value is trying to be set on a copy of a slice from a DataFrame.\n",
      "Try using .loc[row_indexer,col_indexer] = value instead\n",
      "\n",
      "See the caveats in the documentation: https://pandas.pydata.org/pandas-docs/stable/user_guide/indexing.html#returning-a-view-versus-a-copy\n",
      "  score_s[f'y_{col}_{delta}'] = score_s[col].apply(label ,args=(delta,))\n",
      "                                                                                                                       "
     ]
    },
    {
     "name": "stdout",
     "output_type": "stream",
     "text": [
      "beautiful done!\n",
      "    y_beautiful_1.2\n",
      " 0            70897\n",
      "-1            13574\n",
      " 1            12435 [0.7239300957177043]\n"
     ]
    },
    {
     "name": "stderr",
     "output_type": "stream",
     "text": [
      "\r"
     ]
    }
   ],
   "source": [
    "from sklearn.svm import SVC\n",
    "from sklearn.model_selection import cross_val_score\n",
    "import pandas as pd\n",
    "import numpy as np\n",
    "import matplotlib.pyplot as plt\n",
    "plt.rcParams['figure.figsize'] = (8,8)\n",
    "from tqdm import tqdm\n",
    "import pickle\n",
    "\n",
    "def get_bar_vals(col):\n",
    "\n",
    "    def label(x ,delta):\n",
    "        if x < _mean - delta * _std:\n",
    "            return -1\n",
    "        elif x > _mean + delta * _std:\n",
    "            return 1\n",
    "        else:\n",
    "            return 0\n",
    "\n",
    "#     div_range = [0.5 ,0.7 ,1.0 ,1.2 ,1.5 ,1.8]\n",
    "    div_range = [1.2]\n",
    "    score_s = score[['index' ,col]]\n",
    "    \n",
    "    # 获取感知分数的 标准差 和 平均值\n",
    "    _std, _mean = score_s[col].describe()['std'] ,score_s[col].describe()['mean']\n",
    "    \n",
    "    # 不同delta下 样本给与正负值\n",
    "    for delta in div_range:\n",
    "        score_s[f'y_{col}_{delta}'] = score_s[col].apply(label ,args=(delta,))\n",
    "    \n",
    "    # 不同delta下 样本量\n",
    "    dx1 = pd.concat([score_s[f'y_{col}_{delta}'].value_counts() for delta in div_range] ,axis=1)\n",
    "    \n",
    "    # 读取placepulse图分割的结果\n",
    "    seg = pd.read_csv('./data/2.训练集图分割结果/placepulse_seg.csv')\n",
    "    \n",
    "    # 对空值进行填充\n",
    "    seg = seg.fillna(0)\n",
    "    \n",
    "    # 提取名称中的唯一id\n",
    "    seg['img'] = seg['img'].str.split('_').str.get(2)\n",
    "    result = pd.merge(seg ,score_s ,left_on='img' ,right_on='index')\n",
    "\n",
    "    mean_lst = []\n",
    "    for delta in tqdm(div_range,leave=False):\n",
    "        \n",
    "        # delta取不同数值得到的结果\n",
    "        result_s = result[result[f'y_{col}_{delta}'] != 0]\n",
    "        \n",
    "        # 构建训练数据x 和 标签y\n",
    "        X = result_s.iloc[: ,:18].values\n",
    "        y = result_s[f'y_{col}_{delta}'].values\n",
    "        \n",
    "        # 构建SVC并训练\n",
    "        clf = SVC(kernel='rbf' ,C=0.001 ,probability=True)\n",
    "        scores = cross_val_score(clf ,X ,y ,cv=5)\n",
    "        \n",
    "        mean_ = np.mean(scores)\n",
    "        mean_lst.append(mean_)\n",
    "        \n",
    "        # 保存权重\n",
    "        clf.fit(X ,y)\n",
    "        out_model = f'./data/3.训练完成模型权重/model_{delta}_{col}.pkl'\n",
    "        with open(out_model ,'wb') as fl:\n",
    "            pickle.dump(clf ,fl)\n",
    "\n",
    "                \n",
    "    print(f'{col} done!')\n",
    "    print(dx1,mean_lst)\n",
    "    \n",
    "    # 将平均精度进行记录\n",
    "    out_file = f'./data/3.训练完成模型权重/vars_{col}.pkl'\n",
    "    with open(out_file, 'wb') as fl:\n",
    "        pickle.dump([dx1,mean_lst], fl)\n",
    "\n",
    "    return dx1 ,mean_lst\n",
    "\n",
    "if __name__ == \"__main__\":\n",
    "\n",
    "    score.columns = ['index','wealthier', 'depressing', 'safer', 'livelier', 'boring', 'beautiful']\n",
    "    cols = score.columns[1:]\n",
    "    print(cols)\n",
    "    \n",
    "    for col in cols:\n",
    "        print(f'开始处理{col}')\n",
    "        get_bar_vals(col)"
   ]
  },
  {
   "cell_type": "code",
   "execution_count": null,
   "id": "2053b515",
   "metadata": {},
   "outputs": [],
   "source": []
  }
 ],
 "metadata": {
  "kernelspec": {
   "display_name": "Python 3 (ipykernel)",
   "language": "python",
   "name": "python3"
  },
  "language_info": {
   "codemirror_mode": {
    "name": "ipython",
    "version": 3
   },
   "file_extension": ".py",
   "mimetype": "text/x-python",
   "name": "python",
   "nbconvert_exporter": "python",
   "pygments_lexer": "ipython3",
   "version": "3.9.13"
  }
 },
 "nbformat": 4,
 "nbformat_minor": 5
}
