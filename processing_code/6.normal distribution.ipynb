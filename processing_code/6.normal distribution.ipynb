{
 "cells": [
  {
   "cell_type": "code",
   "execution_count": 1,
   "id": "0d40d9f4",
   "metadata": {},
   "outputs": [],
   "source": [
    "import pandas as pd\n",
    "import matplotlib.pyplot as plt\n",
    "import seaborn as sns\n",
    "import geopandas as gpd\n",
    "\n",
    "# 设置默认字体\n",
    "plt.rcParams['font.sans-serif']=['Times New Roman'] "
   ]
  },
  {
   "cell_type": "code",
   "execution_count": 3,
   "id": "eeed9f4a",
   "metadata": {},
   "outputs": [
    {
     "data": {
      "text/html": [
       "<div>\n",
       "<style scoped>\n",
       "    .dataframe tbody tr th:only-of-type {\n",
       "        vertical-align: middle;\n",
       "    }\n",
       "\n",
       "    .dataframe tbody tr th {\n",
       "        vertical-align: top;\n",
       "    }\n",
       "\n",
       "    .dataframe thead th {\n",
       "        text-align: right;\n",
       "    }\n",
       "</style>\n",
       "<table border=\"1\" class=\"dataframe\">\n",
       "  <thead>\n",
       "    <tr style=\"text-align: right;\">\n",
       "      <th></th>\n",
       "      <th>id</th>\n",
       "      <th>lng</th>\n",
       "      <th>lat</th>\n",
       "      <th>total_2019</th>\n",
       "      <th>total_2013</th>\n",
       "      <th>difference</th>\n",
       "      <th>geometry</th>\n",
       "    </tr>\n",
       "  </thead>\n",
       "  <tbody>\n",
       "    <tr>\n",
       "      <th>0</th>\n",
       "      <td>1</td>\n",
       "      <td>121.490473</td>\n",
       "      <td>31.374709</td>\n",
       "      <td>0.780841</td>\n",
       "      <td>0.769064</td>\n",
       "      <td>0.011777</td>\n",
       "      <td>POINT (121.49047 31.37471)</td>\n",
       "    </tr>\n",
       "    <tr>\n",
       "      <th>1</th>\n",
       "      <td>2</td>\n",
       "      <td>121.490002</td>\n",
       "      <td>31.374475</td>\n",
       "      <td>0.731396</td>\n",
       "      <td>0.739170</td>\n",
       "      <td>-0.007773</td>\n",
       "      <td>POINT (121.49000 31.37448)</td>\n",
       "    </tr>\n",
       "    <tr>\n",
       "      <th>2</th>\n",
       "      <td>3</td>\n",
       "      <td>121.489531</td>\n",
       "      <td>31.374241</td>\n",
       "      <td>0.761905</td>\n",
       "      <td>0.743043</td>\n",
       "      <td>0.018862</td>\n",
       "      <td>POINT (121.48953 31.37424)</td>\n",
       "    </tr>\n",
       "    <tr>\n",
       "      <th>3</th>\n",
       "      <td>5</td>\n",
       "      <td>121.491411</td>\n",
       "      <td>31.375158</td>\n",
       "      <td>0.761313</td>\n",
       "      <td>0.757777</td>\n",
       "      <td>0.003536</td>\n",
       "      <td>POINT (121.49141 31.37516)</td>\n",
       "    </tr>\n",
       "    <tr>\n",
       "      <th>4</th>\n",
       "      <td>6</td>\n",
       "      <td>121.491881</td>\n",
       "      <td>31.375384</td>\n",
       "      <td>0.740033</td>\n",
       "      <td>0.768428</td>\n",
       "      <td>-0.028395</td>\n",
       "      <td>POINT (121.49188 31.37538)</td>\n",
       "    </tr>\n",
       "    <tr>\n",
       "      <th>...</th>\n",
       "      <td>...</td>\n",
       "      <td>...</td>\n",
       "      <td>...</td>\n",
       "      <td>...</td>\n",
       "      <td>...</td>\n",
       "      <td>...</td>\n",
       "      <td>...</td>\n",
       "    </tr>\n",
       "    <tr>\n",
       "      <th>33621</th>\n",
       "      <td>71518</td>\n",
       "      <td>121.499223</td>\n",
       "      <td>31.274106</td>\n",
       "      <td>0.721171</td>\n",
       "      <td>0.697510</td>\n",
       "      <td>0.023661</td>\n",
       "      <td>POINT (121.49922 31.27411)</td>\n",
       "    </tr>\n",
       "    <tr>\n",
       "      <th>33622</th>\n",
       "      <td>71519</td>\n",
       "      <td>121.498732</td>\n",
       "      <td>31.274078</td>\n",
       "      <td>0.675960</td>\n",
       "      <td>0.681712</td>\n",
       "      <td>-0.005751</td>\n",
       "      <td>POINT (121.49873 31.27408)</td>\n",
       "    </tr>\n",
       "    <tr>\n",
       "      <th>33623</th>\n",
       "      <td>71542</td>\n",
       "      <td>121.615493</td>\n",
       "      <td>31.210140</td>\n",
       "      <td>0.582641</td>\n",
       "      <td>0.455102</td>\n",
       "      <td>0.127539</td>\n",
       "      <td>POINT (121.61549 31.21014)</td>\n",
       "    </tr>\n",
       "    <tr>\n",
       "      <th>33624</th>\n",
       "      <td>71543</td>\n",
       "      <td>121.615177</td>\n",
       "      <td>31.210559</td>\n",
       "      <td>0.400329</td>\n",
       "      <td>0.399747</td>\n",
       "      <td>0.000581</td>\n",
       "      <td>POINT (121.61518 31.21056)</td>\n",
       "    </tr>\n",
       "    <tr>\n",
       "      <th>33625</th>\n",
       "      <td>71544</td>\n",
       "      <td>121.615078</td>\n",
       "      <td>31.211013</td>\n",
       "      <td>0.502442</td>\n",
       "      <td>0.426081</td>\n",
       "      <td>0.076360</td>\n",
       "      <td>POINT (121.61508 31.21101)</td>\n",
       "    </tr>\n",
       "  </tbody>\n",
       "</table>\n",
       "<p>33626 rows × 7 columns</p>\n",
       "</div>"
      ],
      "text/plain": [
       "          id         lng        lat  total_2019  total_2013  difference  \\\n",
       "0          1  121.490473  31.374709    0.780841    0.769064    0.011777   \n",
       "1          2  121.490002  31.374475    0.731396    0.739170   -0.007773   \n",
       "2          3  121.489531  31.374241    0.761905    0.743043    0.018862   \n",
       "3          5  121.491411  31.375158    0.761313    0.757777    0.003536   \n",
       "4          6  121.491881  31.375384    0.740033    0.768428   -0.028395   \n",
       "...      ...         ...        ...         ...         ...         ...   \n",
       "33621  71518  121.499223  31.274106    0.721171    0.697510    0.023661   \n",
       "33622  71519  121.498732  31.274078    0.675960    0.681712   -0.005751   \n",
       "33623  71542  121.615493  31.210140    0.582641    0.455102    0.127539   \n",
       "33624  71543  121.615177  31.210559    0.400329    0.399747    0.000581   \n",
       "33625  71544  121.615078  31.211013    0.502442    0.426081    0.076360   \n",
       "\n",
       "                         geometry  \n",
       "0      POINT (121.49047 31.37471)  \n",
       "1      POINT (121.49000 31.37448)  \n",
       "2      POINT (121.48953 31.37424)  \n",
       "3      POINT (121.49141 31.37516)  \n",
       "4      POINT (121.49188 31.37538)  \n",
       "...                           ...  \n",
       "33621  POINT (121.49922 31.27411)  \n",
       "33622  POINT (121.49873 31.27408)  \n",
       "33623  POINT (121.61549 31.21014)  \n",
       "33624  POINT (121.61518 31.21056)  \n",
       "33625  POINT (121.61508 31.21101)  \n",
       "\n",
       "[33626 rows x 7 columns]"
      ]
     },
     "execution_count": 3,
     "metadata": {},
     "output_type": "execute_result"
    }
   ],
   "source": [
    "# 读取一个shp 或者geojson文件\n",
    "points = gpd.read_file(r'/Users/wl/Paper_First/202301Perception_Historical（大修）EI/github_upload/gis_data/point_2019-2013.shp')\n",
    "points"
   ]
  },
  {
   "cell_type": "code",
   "execution_count": 38,
   "id": "68f2b082",
   "metadata": {},
   "outputs": [
    {
     "data": {
      "text/plain": [
       "array([ 0.01177748, -0.00777325,  0.01886186, ...,  0.12753877,\n",
       "        0.00058125,  0.0763605 ])"
      ]
     },
     "execution_count": 38,
     "metadata": {},
     "output_type": "execute_result"
    }
   ],
   "source": [
    "data_list = list(points['difference'])\n",
    "data = np.array(data_list)\n",
    "data"
   ]
  },
  {
   "cell_type": "markdown",
   "id": "e58e0853",
   "metadata": {},
   "source": [
    "# Kolmogorov-Smirnov检验（K-S检验）：适用于任何尺寸的样本，特别是大样本。这个检验使用累积分布函数（CDF）的经验分布与理论分布（在这里是正态分布）进行比较。"
   ]
  },
  {
   "cell_type": "code",
   "execution_count": 25,
   "id": "126c2bb7",
   "metadata": {},
   "outputs": [
    {
     "name": "stdout",
     "output_type": "stream",
     "text": [
      "KS Statistic: 0.07775913288049499\n",
      "P-Value: 2.7600648723879566e-177\n",
      "数据不服从正态分布（在5%的显著性水平下）\n"
     ]
    }
   ],
   "source": [
    "import scipy.stats as stats\n",
    "import numpy as np\n",
    "\n",
    "\n",
    "# 确保所有数据都是正数\n",
    "if np.any(data <= 0):\n",
    "    # 将所有数据平移，使其大于0\n",
    "    data += (-np.min(data) + 0.5)\n",
    "\n",
    "# 计算数据的均值和标准差\n",
    "mu = np.mean(data)\n",
    "sigma = np.std(data, ddof=1)  # ddof=1 用于样本标准差\n",
    "\n",
    "# 进行K-S检验，比较数据与正态分布的拟合程度\n",
    "ks_statistic, p_value = stats.kstest(data, 'norm', args=(mu, sigma))\n",
    "\n",
    "print(f\"KS Statistic: {ks_statistic}\")\n",
    "print(f\"P-Value: {p_value}\")\n",
    "\n",
    "# 根据P值判断\n",
    "if p_value > 0.05:\n",
    "    print(\"数据服从正态分布（在5%的显著性水平下）\")\n",
    "else:\n",
    "    print(\"数据不服从正态分布（在5%的显著性水平下）\")\n"
   ]
  },
  {
   "cell_type": "markdown",
   "id": "f1b77f5d",
   "metadata": {},
   "source": [
    "# 描述数据"
   ]
  },
  {
   "cell_type": "code",
   "execution_count": 48,
   "id": "344bd3f5",
   "metadata": {},
   "outputs": [
    {
     "data": {
      "image/png": "[encoded data removed]",
      "text/plain": [
       "<Figure size 1000x600 with 1 Axes>"
      ]
     },
     "metadata": {},
     "output_type": "display_data"
    },
    {
     "data": {
      "image/png": "[encoded data removed]",
      "text/plain": [
       "<Figure size 1000x600 with 1 Axes>"
      ]
     },
     "metadata": {},
     "output_type": "display_data"
    },
    {
     "data": {
      "text/html": [
       "<div>\n",
       "<style scoped>\n",
       "    .dataframe tbody tr th:only-of-type {\n",
       "        vertical-align: middle;\n",
       "    }\n",
       "\n",
       "    .dataframe tbody tr th {\n",
       "        vertical-align: top;\n",
       "    }\n",
       "\n",
       "    .dataframe thead th {\n",
       "        text-align: right;\n",
       "    }\n",
       "</style>\n",
       "<table border=\"1\" class=\"dataframe\">\n",
       "  <thead>\n",
       "    <tr style=\"text-align: right;\">\n",
       "      <th></th>\n",
       "      <th>0</th>\n",
       "    </tr>\n",
       "  </thead>\n",
       "  <tbody>\n",
       "    <tr>\n",
       "      <th>count</th>\n",
       "      <td>33626.000000</td>\n",
       "    </tr>\n",
       "    <tr>\n",
       "      <th>mean</th>\n",
       "      <td>0.027891</td>\n",
       "    </tr>\n",
       "    <tr>\n",
       "      <th>std</th>\n",
       "      <td>0.089688</td>\n",
       "    </tr>\n",
       "    <tr>\n",
       "      <th>min</th>\n",
       "      <td>-0.524430</td>\n",
       "    </tr>\n",
       "    <tr>\n",
       "      <th>25%</th>\n",
       "      <td>-0.014295</td>\n",
       "    </tr>\n",
       "    <tr>\n",
       "      <th>50%</th>\n",
       "      <td>0.022343</td>\n",
       "    </tr>\n",
       "    <tr>\n",
       "      <th>75%</th>\n",
       "      <td>0.072842</td>\n",
       "    </tr>\n",
       "    <tr>\n",
       "      <th>max</th>\n",
       "      <td>0.503938</td>\n",
       "    </tr>\n",
       "  </tbody>\n",
       "</table>\n",
       "</div>"
      ],
      "text/plain": [
       "                  0\n",
       "count  33626.000000\n",
       "mean       0.027891\n",
       "std        0.089688\n",
       "min       -0.524430\n",
       "25%       -0.014295\n",
       "50%        0.022343\n",
       "75%        0.072842\n",
       "max        0.503938"
      ]
     },
     "execution_count": 48,
     "metadata": {},
     "output_type": "execute_result"
    }
   ],
   "source": [
    "# 重命名列为 \"values\" 以简化处理\n",
    "data = pd.DataFrame(data_list)\n",
    "\n",
    "# 描述性统计\n",
    "descriptive_stats = data.describe()\n",
    "\n",
    "# 导入可视化库\n",
    "import matplotlib.pyplot as plt\n",
    "import seaborn as sns\n",
    "\n",
    "# 设置图形风格\n",
    "sns.set(style=\"whitegrid\")\n",
    "\n",
    "# 绘制直方图\n",
    "plt.figure(figsize=(10, 6))\n",
    "sns.histplot(data, bins=50, kde=True)\n",
    "plt.title('Histogram of the Data')\n",
    "plt.xlabel('Values')\n",
    "plt.ylabel('Frequency')\n",
    "plt.show()\n",
    "\n",
    "# 绘制箱线图\n",
    "plt.figure(figsize=(10, 6))\n",
    "sns.boxplot(x=data[0])\n",
    "plt.title('Boxplot of the Data')\n",
    "plt.xlabel('Values')\n",
    "plt.show()\n",
    "\n",
    "descriptive_stats\n"
   ]
  },
  {
   "cell_type": "markdown",
   "id": "fec99f71",
   "metadata": {},
   "source": [
    "# 进一步统计测试"
   ]
  },
  {
   "cell_type": "code",
   "execution_count": 50,
   "id": "b86254fb",
   "metadata": {},
   "outputs": [
    {
     "data": {
      "text/plain": [
       "{'Skewness': array([-0.0443494]),\n",
       " 'Kurtosis': array([3.22221239]),\n",
       " 'Shapiro-Wilk Test': ShapiroResult(statistic=0.9571585655212402, pvalue=5.136354277862752e-36),\n",
       " 'D’Agostino’s K^2 Test': NormaltestResult(statistic=array([2548.26473713]), pvalue=array([0.]))}"
      ]
     },
     "execution_count": 50,
     "metadata": {},
     "output_type": "execute_result"
    }
   ],
   "source": [
    "import scipy.stats as stats\n",
    "\n",
    "# 计算偏度和峰度\n",
    "skewness = stats.skew(data)\n",
    "kurtosis = stats.kurtosis(data)\n",
    "\n",
    "# Shapiro-Wilk 测试\n",
    "shapiro_test = stats.shapiro(data.sample(5000))  # 由于性能考虑，抽样5000个样本进行测试\n",
    "\n",
    "# D’Agostino’s K^2 测试\n",
    "dagostino_test = stats.normaltest(data)\n",
    "\n",
    "{\n",
    "    \"Skewness\": skewness,\n",
    "    \"Kurtosis\": kurtosis,\n",
    "    \"Shapiro-Wilk Test\": shapiro_test,\n",
    "    \"D’Agostino’s K^2 Test\": dagostino_test\n",
    "}\n"
   ]
  },
  {
   "cell_type": "code",
   "execution_count": null,
   "id": "61ffb731",
   "metadata": {},
   "outputs": [],
   "source": []
  },
  {
   "cell_type": "code",
   "execution_count": null,
   "id": "e252aea9",
   "metadata": {},
   "outputs": [],
   "source": []
  },
  {
   "cell_type": "code",
   "execution_count": null,
   "id": "f361bbf8",
   "metadata": {},
   "outputs": [],
   "source": []
  }
 ],
 "metadata": {
  "kernelspec": {
   "display_name": "Python 3 (ipykernel)",
   "language": "python",
   "name": "python3"
  },
  "language_info": {
   "codemirror_mode": {
    "name": "ipython",
    "version": 3
   },
   "file_extension": ".py",
   "mimetype": "text/x-python",
   "name": "python",
   "nbconvert_exporter": "python",
   "pygments_lexer": "ipython3",
   "version": "3.10.9"
  },
  "toc": {
   "base_numbering": 1,
   "nav_menu": {},
   "number_sections": true,
   "sideBar": true,
   "skip_h1_title": false,
   "title_cell": "Table of Contents",
   "title_sidebar": "Contents",
   "toc_cell": false,
   "toc_position": {},
   "toc_section_display": true,
   "toc_window_display": false
  }
 },
 "nbformat": 4,
 "nbformat_minor": 5
}
